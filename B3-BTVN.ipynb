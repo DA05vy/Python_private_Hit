{
  "cells": [
    {
      "cell_type": "markdown",
      "source": [
        "Problem 1"
      ],
      "metadata": {
        "id": "ILsE9nb76cUP"
      }
    },
    {
      "cell_type": "code",
      "source": [
        "def gt(t):\n",
        "  if t == 0 or t == 1:\n",
        "      return 1\n",
        "  else:\n",
        "      res = 1\n",
        "      for i in range(2, t + 1):\n",
        "          res *= t\n",
        "      return res\n",
        "\n",
        "n = int( input(\"Nhap n: \"))\n",
        "x = int( input(\"Nhap x: \"))\n",
        "n1 = int(100)\n",
        "\n",
        "kq = 1.00\n",
        "for i in range(1, n1+1):\n",
        "    kq += ( x**i )/gt(i)\n",
        "print(f\" Ket qua cua e^{x} = {kq} \")\n",
        "\n",
        "qk = 0.00\n",
        "for i in range(1,n+1):\n",
        "    qk = 1/gt(i)\n",
        "print(f\"Ket qua cua S = {qk} \")\n"
      ],
      "metadata": {
        "id": "2zjCsAXb62FP"
      },
      "execution_count": null,
      "outputs": []
    },
    {
      "cell_type": "markdown",
      "source": [
        "Problem 2"
      ],
      "metadata": {
        "id": "suA1PWYH6gZw"
      }
    },
    {
      "cell_type": "code",
      "source": [
        "import math\n",
        "n = int(input(\"Nhap n:\"))\n",
        "if n <= 1:\n",
        "    print(0)\n",
        "else:\n",
        "    k = int(math.sqrt(n) - 1)\n",
        "    print(f\"So cac so co uoc le tu 1 den {n} la {k}\")"
      ],
      "metadata": {
        "id": "dBYKs4u46hFj"
      },
      "execution_count": null,
      "outputs": []
    },
    {
      "cell_type": "markdown",
      "source": [
        "Problem 3"
      ],
      "metadata": {
        "id": "3kV6Lh016hSY"
      }
    },
    {
      "cell_type": "code",
      "source": [
        "n = int( input(\"Nhap n:\"))\n",
        "ten = []\n",
        "tong = []\n",
        "xep = []\n",
        "for i in range(n):\n",
        "    t = input(\"Nhap ten:\")\n",
        "    ten.append(t)\n",
        "    d1,d2 = map( int, input(\"Nhap diem:\").split() )\n",
        "    total = d1+d2\n",
        "    tong.append(total)\n",
        "    if total >= 190:\n",
        "        ca = 'Xuất sắc'\n",
        "    elif total >= 150:\n",
        "        ca = 'Giỏi'\n",
        "    elif total >= 100:\n",
        "        ca = 'Khá'\n",
        "    else:\n",
        "        ca = 'Yếu'\n",
        "    xep.append(ca)\n",
        "kq = zip(ten, tong, xep)\n",
        "for index, (i,j,k) in enumerate(kq):\n",
        "    print( index+1, i, j, k)"
      ],
      "metadata": {
        "id": "pBZkClkL6hnS"
      },
      "execution_count": null,
      "outputs": []
    },
    {
      "cell_type": "markdown",
      "source": [
        "Problem 4"
      ],
      "metadata": {
        "id": "Oe59I0qk6h1C"
      }
    },
    {
      "cell_type": "code",
      "source": [
        "def is_valid(email):\n",
        "    at_index = email.find('@')\n",
        "    dot_index = email.rfind('.')\n",
        "\n",
        "    if at_index == -1 or dot_index == -1:\n",
        "        return False\n",
        "    if at_index > dot_index:\n",
        "        return False\n",
        "    if dot_index == at_index + 1 or dot_index == len(email) - 1:\n",
        "        return False\n",
        "    return True\n",
        "\n",
        "s = input(\"Nhập email: \")\n",
        "\n",
        "if is_valid(s):\n",
        "    print(\"Valid\")\n",
        "else:\n",
        "    print(\"Invalid\")"
      ],
      "metadata": {
        "id": "JhLVuIFJ6iM2"
      },
      "execution_count": null,
      "outputs": []
    },
    {
      "cell_type": "markdown",
      "source": [
        "Problem 5"
      ],
      "metadata": {
        "id": "_rsQe5lg6kIg"
      }
    },
    {
      "cell_type": "code",
      "source": [
        "m = int(input(\"Nhập số động vật: \"))\n",
        "\n",
        "animal = []\n",
        "food = []\n",
        "for i in range(m):\n",
        "    name = input(\"Nhập tên động vật: \")\n",
        "    fod = int(input(\"Nhập lượng thức ăn: \"))\n",
        "    animal.append(name)\n",
        "    food.append(fod)\n",
        "\n",
        "print(\"daily_descriptions\")\n",
        "for i in range(m):\n",
        "    print(f\" {animal[i]} : {food[i]}\")\n",
        "\n",
        "total_food = 0\n",
        "for i in range(m):\n",
        "    if food[i] < 5:\n",
        "        continue\n",
        "    if food[i] > 100:\n",
        "        break\n",
        "    total_food += food[i]\n",
        "print(f\"total_food = {total_food}\")\n",
        "\n",
        "top_eater_index = 0\n",
        "top_eater_quantity = food[0]\n",
        "for i in range(m):\n",
        "    if food[i] > top_eater_quantity:\n",
        "        top_eater_index = i\n",
        "print(f\"top_eater = {animal[top_eater_index]}, {food[top_eater_index]}\")\n",
        "\n",
        "lowest = 5\n",
        "d = -1\n",
        "if food[i] <= lowest:\n",
        "        d = i\n",
        "if d == -1:\n",
        "    print(\"Không có\")\n",
        "else:\n",
        "    print(f\"Lowest_eater: {d}\")"
      ],
      "metadata": {
        "id": "b7m9xaEG6kay"
      },
      "execution_count": null,
      "outputs": []
    },
    {
      "cell_type": "markdown",
      "source": [
        "Problem 6"
      ],
      "metadata": {
        "id": "7nQFpnk46kou"
      }
    },
    {
      "cell_type": "code",
      "source": [
        "import math\n",
        "def is_number (x) :\n",
        "    try :\n",
        "        float (x)\n",
        "        return True\n",
        "    except ValueError :\n",
        "        return False\n",
        "def activation_function_name (s) :\n",
        "    return s in ('binary' , 'sigmoid' , 'elu')\n",
        "def Binary (x) :\n",
        "    if x < 0 :\n",
        "        return 0\n",
        "    else :\n",
        "        return 1\n",
        "def Sigmoid (x) :\n",
        "    return 1 / (1 + (math.e **(-x)))\n",
        "def ELU (x , alpha) :\n",
        "    if x < 0 :\n",
        "        return alpha * (math.e ** x - 1)\n",
        "    else :\n",
        "        return x\n",
        "x = input()\n",
        "activation_function = input()\n",
        "alpha = 0.01\n",
        "if (is_number(x)):\n",
        "    x = float(x)\n",
        "    if (activation_function_name(activation_function)):\n",
        "        if activation_function == 'binary' : print(Binary(x))\n",
        "        if activation_function == 'sigmoid' : print(Sigmoid(x))\n",
        "        if activation_function == 'elu' : print(ELU(x,alpha))\n",
        "    else:\n",
        "        print (activation_function , 'is not supported')\n",
        "else:\n",
        "    print ('x must be number')"
      ],
      "metadata": {
        "id": "z7ioBG5k6lCa"
      },
      "execution_count": null,
      "outputs": []
    }
  ],
  "metadata": {
    "colab": {
      "name": "Colaboratory chào mừng bạn!",
      "toc_visible": true,
      "provenance": []
    },
    "kernelspec": {
      "display_name": "Python 3",
      "name": "python3"
    }
  },
  "nbformat": 4,
  "nbformat_minor": 0
}